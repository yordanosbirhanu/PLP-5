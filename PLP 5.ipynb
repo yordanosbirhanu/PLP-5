{
 "cells": [
  {
   "cell_type": "code",
   "execution_count": null,
   "id": "44f18a38-0489-410f-a3e0-75f3914e526c",
   "metadata": {},
   "outputs": [],
   "source": [
    "# Assignment 1: Design Your Own Class! "
   ]
  },
  {
   "cell_type": "code",
   "execution_count": 1,
   "id": "d25f75f2-b88b-4507-9e8e-9922d26cbf56",
   "metadata": {},
   "outputs": [
    {
     "name": "stdout",
     "output_type": "stream",
     "text": [
      "Samsung Galaxy S24\n",
      "📸 Taking a photo with 50MP camera\n",
      "128GB\n",
      "Storage increased to 192GB\n"
     ]
    }
   ],
   "source": [
    "# Base class\n",
    "class Device:\n",
    "    def __init__(self, brand, model):\n",
    "        self.brand = brand\n",
    "        self.model = model\n",
    "\n",
    "    def device_info(self):\n",
    "        return f\"{self.brand} {self.model}\"\n",
    "        \n",
    "# Derived class with encapsulation and added functionality\n",
    "class Smartphone(Device):\n",
    "    def __init__(self, brand, model, storage, camera_megapixels):\n",
    "        super().__init__(brand, model)\n",
    "        self.__storage = storage  # Encapsulated attribute\n",
    "        self.camera_megapixels = camera_megapixels\n",
    "\n",
    "    def take_photo(self):\n",
    "        return f\"📸 Taking a photo with {self.camera_megapixels}MP camera\"\n",
    "\n",
    "    def get_storage(self):\n",
    "        return f\"{self.__storage}GB\"\n",
    "\n",
    "    def add_storage(self, extra):\n",
    "        self.__storage += extra\n",
    "        return f\"Storage increased to {self.__storage}GB\"\n",
    "\n",
    "# Using the class\n",
    "my_phone = Smartphone(\"Samsung\", \"Galaxy S24\", 128, 50)\n",
    "print(my_phone.device_info())\n",
    "print(my_phone.take_photo())\n",
    "print(my_phone.get_storage())\n",
    "print(my_phone.add_storage(64))\n"
   ]
  },
  {
   "cell_type": "code",
   "execution_count": null,
   "id": "984332f1-50d3-4efe-969d-44356b56b904",
   "metadata": {},
   "outputs": [],
   "source": [
    " # Activity 2: Polymorphism Challenge – Animals with move() Method"
   ]
  },
  {
   "cell_type": "code",
   "execution_count": 2,
   "id": "c07f7490-1778-4d55-9afe-51f2390a9a3e",
   "metadata": {},
   "outputs": [
    {
     "name": "stdout",
     "output_type": "stream",
     "text": [
      "🐕 Dog is running\n",
      "🐦 Bird is flying\n",
      "🐍 Snake is slithering\n"
     ]
    }
   ],
   "source": [
    "class Animal:\n",
    "    def move(self):\n",
    "        print(\"Animal moves in some way\")\n",
    "\n",
    "class Dog(Animal):\n",
    "    def move(self):\n",
    "        print(\"🐕 Dog is running\")\n",
    "\n",
    "class Bird(Animal):\n",
    "    def move(self):\n",
    "        print(\"🐦 Bird is flying\")\n",
    "\n",
    "class Snake(Animal):\n",
    "    def move(self):\n",
    "        print(\"🐍 Snake is slithering\")\n",
    "\n",
    "# Polymorphism in action\n",
    "animals = [Dog(), Bird(), Snake()]\n",
    "\n",
    "for animal in animals:\n",
    "    animal.move()\n"
   ]
  },
  {
   "cell_type": "code",
   "execution_count": null,
   "id": "16a40e54-0bcb-46fe-bdff-58a5334209b7",
   "metadata": {},
   "outputs": [],
   "source": []
  }
 ],
 "metadata": {
  "kernelspec": {
   "display_name": "Python 3 (ipykernel)",
   "language": "python",
   "name": "python3"
  },
  "language_info": {
   "codemirror_mode": {
    "name": "ipython",
    "version": 3
   },
   "file_extension": ".py",
   "mimetype": "text/x-python",
   "name": "python",
   "nbconvert_exporter": "python",
   "pygments_lexer": "ipython3",
   "version": "3.13.5"
  }
 },
 "nbformat": 4,
 "nbformat_minor": 5
}
